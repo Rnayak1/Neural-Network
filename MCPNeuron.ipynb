{
  "nbformat": 4,
  "nbformat_minor": 0,
  "metadata": {
    "colab": {
      "name": "MCPNeuron.ipynb",
      "provenance": [],
      "collapsed_sections": [],
      "include_colab_link": true
    },
    "kernelspec": {
      "name": "python3",
      "display_name": "Python 3"
    }
  },
  "cells": [
    {
      "cell_type": "markdown",
      "metadata": {
        "id": "view-in-github",
        "colab_type": "text"
      },
      "source": [
        "<a href=\"https://colab.research.google.com/github/vidulkumar/Neural-Network/blob/master/MCPNeuron.ipynb\" target=\"_parent\"><img src=\"https://colab.research.google.com/assets/colab-badge.svg\" alt=\"Open In Colab\"/></a>"
      ]
    },
    {
      "cell_type": "code",
      "metadata": {
        "id": "oF8dV6lt_zuR",
        "colab_type": "code",
        "colab": {}
      },
      "source": [
        "class MCPNeuron():\n",
        "  \n",
        "  def __init__(self,w,t):\n",
        "    self.w = w\n",
        "    self.t = t\n",
        "  \n",
        "  \n",
        "  def compute(self,inp):\n",
        "    \n",
        "    if len(self.w) != len(inp):\n",
        "      print(\"error\")\n",
        "      return -1\n",
        "    else:\n",
        "\n",
        "      val = 0\n",
        "      for i in range(0,len(inp)):\n",
        "        val = val + inp[i]*self.w[i]\n",
        "    \n",
        "      if val >= self.t:\n",
        "        return 1\n",
        "      else:\n",
        "        return 0\n",
        "    \n",
        "  def drawTruthTable(self,IN):\n",
        "    out = []\n",
        "    \n",
        "    for x in range(0,len(IN)):\n",
        "      out.append(self.compute(IN[x]))\n",
        "      \n",
        "    \n",
        "    for x in range(0,len(IN)):\n",
        "      print(IN[x],\" \",out[x]) \n",
        "    \n",
        "    "
      ],
      "execution_count": 0,
      "outputs": []
    },
    {
      "cell_type": "code",
      "metadata": {
        "id": "ye6bW4A2EssJ",
        "colab_type": "code",
        "outputId": "4f81ef8c-d01c-4f12-a163-a2440a32714c",
        "colab": {
          "base_uri": "https://localhost:8080/",
          "height": 85
        }
      },
      "source": [
        "OR = MCPNeuron(w=[1,1],t = 1)\n",
        "a = [[0,0],[0,1],[1,0],[1,1]]\n",
        "\n",
        "\n",
        "OR.drawTruthTable(a)\n"
      ],
      "execution_count": 19,
      "outputs": [
        {
          "output_type": "stream",
          "text": [
            "[0, 0]   0\n",
            "[0, 1]   1\n",
            "[1, 0]   1\n",
            "[1, 1]   1\n"
          ],
          "name": "stdout"
        }
      ]
    },
    {
      "cell_type": "code",
      "metadata": {
        "id": "s8NFxz68EtyA",
        "colab_type": "code",
        "outputId": "7d46abee-0920-47a6-af4f-b7cb3b8e214d",
        "colab": {
          "base_uri": "https://localhost:8080/",
          "height": 85
        }
      },
      "source": [
        "AND = MCPNeuron(w=[1,1],t = 2)\n",
        "a = [[0,0],[0,1],[1,0],[1,1]]\n",
        "\n",
        "\n",
        "AND.drawTruthTable(a)\n"
      ],
      "execution_count": 15,
      "outputs": [
        {
          "output_type": "stream",
          "text": [
            "[0, 0]   0\n",
            "[0, 1]   0\n",
            "[1, 0]   0\n",
            "[1, 1]   1\n"
          ],
          "name": "stdout"
        }
      ]
    },
    {
      "cell_type": "code",
      "metadata": {
        "id": "YbGLMh1PE0rX",
        "colab_type": "code",
        "outputId": "bcc0335d-146c-4b04-8ac2-9fb47185e67e",
        "colab": {
          "base_uri": "https://localhost:8080/",
          "height": 85
        }
      },
      "source": [
        "NAND = MCPNeuron(w=[-1,-1],t = -1)\n",
        "a = [[0,0],[0,1],[1,0],[1,1]]\n",
        "\n",
        "\n",
        "NAND.drawTruthTable(a)\n"
      ],
      "execution_count": 16,
      "outputs": [
        {
          "output_type": "stream",
          "text": [
            "[0, 0]   1\n",
            "[0, 1]   1\n",
            "[1, 0]   1\n",
            "[1, 1]   0\n"
          ],
          "name": "stdout"
        }
      ]
    },
    {
      "cell_type": "code",
      "metadata": {
        "id": "wTQJ0IrdHlII",
        "colab_type": "code",
        "outputId": "941a4d7a-5b04-4713-eba2-e02a5be61e5c",
        "colab": {
          "base_uri": "https://localhost:8080/",
          "height": 51
        }
      },
      "source": [
        "NOT = MCPNeuron(w=[-1],t = 0)\n",
        "a = [[0],[1]]\n",
        "\n",
        "\n",
        "NOT.drawTruthTable(a)"
      ],
      "execution_count": 17,
      "outputs": [
        {
          "output_type": "stream",
          "text": [
            "[0]   1\n",
            "[1]   0\n"
          ],
          "name": "stdout"
        }
      ]
    },
    {
      "cell_type": "code",
      "metadata": {
        "id": "TYs6a_UoICZh",
        "colab_type": "code",
        "colab": {
          "base_uri": "https://localhost:8080/",
          "height": 85
        },
        "outputId": "2d36556e-bc90-4173-e6c8-25b68a980193"
      },
      "source": [
        "NOR = MCPNeuron(w=[-1,-1],t = 0)\n",
        "a = [[0,0],[0,1],[1,0],[1,1]]\n",
        "\n",
        "NOR.drawTruthTable(a)"
      ],
      "execution_count": 18,
      "outputs": [
        {
          "output_type": "stream",
          "text": [
            "[0, 0]   1\n",
            "[0, 1]   0\n",
            "[1, 0]   0\n",
            "[1, 1]   0\n"
          ],
          "name": "stdout"
        }
      ]
    }
  ]
}